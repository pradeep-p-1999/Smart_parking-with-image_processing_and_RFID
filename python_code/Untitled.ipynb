{
 "cells": [
  {
   "cell_type": "code",
   "execution_count": 60,
   "metadata": {},
   "outputs": [],
   "source": [
    "import numpy as np\n",
    "import os\n",
    "import six.moves.urllib as urllib\n",
    "import sys\n",
    "import tarfile\n",
    "import tensorflow as tf\n",
    "import zipfile\n",
    "import cv2\n",
    "import numpy as np\n",
    "import csv\n",
    "import time\n",
    "\n",
    "from collections import defaultdict\n",
    "from io import StringIO\n",
    "from matplotlib import pyplot as plt\n",
    "from PIL import Image\n",
    "from utils import label_map_util\n",
    "from utils import visualization_utils as vis_util\n"
   ]
  },
  {
   "cell_type": "code",
   "execution_count": 61,
   "metadata": {},
   "outputs": [],
   "source": [
    "with open('traffic_measurement.csv', 'w') as f:\n",
    "    writer = csv.writer(f)\n",
    "    csv_line = \\\n",
    "        'Vehicle Type/Size, Vehicle Color, Vehicle Movement Direction, Vehicle Speed (km/h)'\n",
    "    writer.writerows([csv_line.split(',')])\n"
   ]
  },
  {
   "cell_type": "code",
   "execution_count": 62,
   "metadata": {},
   "outputs": [],
   "source": [
    "cap = cv2.VideoCapture('sub-1504619634606.mp4')"
   ]
  },
  {
   "cell_type": "code",
   "execution_count": 63,
   "metadata": {},
   "outputs": [],
   "source": [
    "total_passed_vehicle = 0  # using it to count vehicles"
   ]
  },
  {
   "cell_type": "code",
   "execution_count": 64,
   "metadata": {},
   "outputs": [],
   "source": [
    "MODEL_NAME = 'ssd_mobilenet_v1_coco_2018_01_28'\n",
    "MODEL_FILE = MODEL_NAME + '.tar.gz'\n",
    "DOWNLOAD_BASE = \\\n",
    "    'http://download.tensorflow.org/models/object_detection/'"
   ]
  },
  {
   "cell_type": "code",
   "execution_count": 65,
   "metadata": {},
   "outputs": [],
   "source": [
    "PATH_TO_CKPT = MODEL_NAME + '/frozen_inference_graph.pb'"
   ]
  },
  {
   "cell_type": "code",
   "execution_count": 66,
   "metadata": {},
   "outputs": [],
   "source": [
    "PATH_TO_LABELS = os.path.join('data', 'mscoco_label_map.pbtxt')"
   ]
  },
  {
   "cell_type": "code",
   "execution_count": 67,
   "metadata": {},
   "outputs": [],
   "source": [
    "NUM_CLASSES = 90"
   ]
  },
  {
   "cell_type": "code",
   "execution_count": 68,
   "metadata": {},
   "outputs": [],
   "source": [
    "detection_graph = tf.Graph()\n",
    "with detection_graph.as_default():\n",
    "    od_graph_def = tf.GraphDef()\n",
    "    with tf.gfile.GFile(PATH_TO_CKPT, 'rb') as fid:\n",
    "        serialized_graph = fid.read()\n",
    "        od_graph_def.ParseFromString(serialized_graph)\n",
    "        tf.import_graph_def(od_graph_def, name='')"
   ]
  },
  {
   "cell_type": "code",
   "execution_count": null,
   "metadata": {},
   "outputs": [],
   "source": [
    "label_map = label_map_util.load_labelmap(PATH_TO_LABELS)\n",
    "categories = label_map_util.convert_label_map_to_categories(label_map,\n",
    "        max_num_classes=NUM_CLASSES, use_display_name=True)\n",
    "category_index = label_map_util.create_category_index(categories)\n",
    "\n",
    "\n",
    "# Helper code\n",
    "def load_image_into_numpy_array(image):\n",
    "    (im_width, im_height) = image.size\n",
    "    return np.array(image.getdata()).reshape((im_height, im_width,\n",
    "            3)).astype(np.uint8)\n",
    "\n"
   ]
  },
  {
   "cell_type": "code",
   "execution_count": null,
   "metadata": {},
   "outputs": [],
   "source": [
    "def object_detection_function():\n",
    "    total_passed_vehicle = 0\n",
    "    speed = 'waiting...'\n",
    "    direction = 'waiting...'\n",
    "    size = 'waiting...'\n",
    "    color = 'waiting...'\n",
    "    with detection_graph.as_default():\n",
    "        with tf.Session(graph=detection_graph) as sess: # Definite input and output Tensors for detection_graph\n",
    "            image_tensor = detection_graph.get_tensor_by_name('image_tensor:0')\n",
    "\n",
    "            # Each box represents a part of the image where a particular object was detected.\n",
    "            detection_boxes = detection_graph.get_tensor_by_name('detection_boxes:0')\n",
    "\n",
    "            # Each score represent how level of confidence for each of the objects.\n",
    "            # Score is shown on the result image, together with the class label.\n",
    "            detection_scores = detection_graph.get_tensor_by_name('detection_scores:0')\n",
    "            detection_classes = detection_graph.get_tensor_by_name('detection_classes:0')\n",
    "            num_detections = detection_graph.get_tensor_by_name('num_detections:0')\n",
    "\n",
    "            # for all the frames that are extracted from input video\n",
    "            while cap.isOpened():\n",
    "                (ret, frame) = cap.read()\n",
    "\n",
    "                if not ret:\n",
    "                    print ('end of the video file...')\n",
    "                    break\n",
    "\n",
    "                input_frame = frame\n",
    "\n",
    "                # Expand dimensions since the model expects images to have shape: [1, None, None, 3]\n",
    "                image_np_expanded = np.expand_dims(input_frame, axis=0)\n",
    "\n",
    "                # Actual detection.\n",
    "                (boxes, scores, classes, num) = \\\n",
    "                    sess.run([detection_boxes, detection_scores,\n",
    "                             detection_classes, num_detections],\n",
    "                             feed_dict={image_tensor: image_np_expanded})\n",
    "\n",
    "                # Visualization of the results of a detection.\n",
    "                (counter, csv_line) = \\\n",
    "                    vis_util.visualize_boxes_and_labels_on_image_array(\n",
    "                    cap.get(1),\n",
    "                    input_frame,\n",
    "                    np.squeeze(boxes),\n",
    "                    np.squeeze(classes).astype(np.int32),\n",
    "                    np.squeeze(scores),\n",
    "                    category_index,\n",
    "                    use_normalized_coordinates=True,\n",
    "                    line_thickness=2,\n",
    "                    )\n",
    "\n",
    "                total_passed_vehicle = total_passed_vehicle + counter\n",
    "\n",
    "                # insert information text to video frame\n",
    "                font = cv2.FONT_HERSHEY_SIMPLEX\n",
    "                cv2.putText(\n",
    "                    input_frame,\n",
    "                    'Detected Vehicles: ' + str(total_passed_vehicle),\n",
    "                    (10, 35),\n",
    "                    font,\n",
    "                    0.8,\n",
    "                    (0, 0xFF, 0xFF),\n",
    "                    2,\n",
    "                    cv2.FONT_HERSHEY_SIMPLEX,\n",
    "                    )\n",
    "\n",
    "                # when the vehicle passed over line and counted, make the color of ROI line green\n",
    "                if counter == 1:\n",
    "                    cv2.line(input_frame, (0, 200), (720, 200), (0, 0xFF, 0), 5)\n",
    "                else:\n",
    "                    cv2.line(input_frame, (0, 200), (720, 200), (0, 0, 0xFF), 5)\n",
    "\n",
    "                # insert information text to video frame\n",
    "                cv2.rectangle(input_frame, (10, 275), (230, 337), (180, 132, 109), -1)\n",
    "                cv2.putText(\n",
    "                    input_frame,\n",
    "                    'ROI Line',\n",
    "                    (545, 190),\n",
    "                    font,\n",
    "                    0.6,\n",
    "                    (0, 0, 0xFF),\n",
    "                    2,\n",
    "                    cv2.LINE_AA,\n",
    "                    )\n",
    "                cv2.putText(\n",
    "                    input_frame,\n",
    "                    'LAST PASSED VEHICLE INFO',\n",
    "                    (11, 290),\n",
    "                    font,\n",
    "                    0.5,\n",
    "                    (0xFF, 0xFF, 0xFF),\n",
    "                    1,\n",
    "                    cv2.FONT_HERSHEY_SIMPLEX,\n",
    "                    )\n",
    "                cv2.putText(\n",
    "                    input_frame,\n",
    "                    '-Movement Direction: ' + direction,\n",
    "                    (14, 302),\n",
    "                    font,\n",
    "                    0.4,\n",
    "                    (0xFF, 0xFF, 0xFF),\n",
    "                    1,\n",
    "                    cv2.FONT_HERSHEY_COMPLEX_SMALL,\n",
    "                    )\n",
    "                cv2.putText(\n",
    "                    input_frame,\n",
    "                    '-Speed(km/h): ' + speed,\n",
    "                    (14, 312),\n",
    "                    font,\n",
    "                    0.4,\n",
    "                    (0xFF, 0xFF, 0xFF),\n",
    "                    1,\n",
    "                    cv2.FONT_HERSHEY_COMPLEX_SMALL,\n",
    "                    )\n",
    "                cv2.putText(\n",
    "                    input_frame,\n",
    "                    '-Color: ' + color,\n",
    "                    (14, 322),\n",
    "                    font,\n",
    "                    0.4,\n",
    "                    (0xFF, 0xFF, 0xFF),\n",
    "                    1,\n",
    "                    cv2.FONT_HERSHEY_COMPLEX_SMALL,\n",
    "                    )\n",
    "                cv2.putText(\n",
    "                    input_frame,\n",
    "                    '-Vehicle Size/Type: ' + size,\n",
    "                    (14, 332),\n",
    "                    font,\n",
    "                    0.4,\n",
    "                    (0xFF, 0xFF, 0xFF),\n",
    "                    1,\n",
    "                    cv2.FONT_HERSHEY_COMPLEX_SMALL,\n",
    "                    )\n",
    "\n",
    "                cv2.imshow('vehicle detection', input_frame)\n",
    "\n",
    "                if cv2.waitKey(1) & 0xFF == ord('q'):\n",
    "                    break\n",
    "\n",
    "                if csv_line != 'not_available':\n",
    "                    with open('traffic_measurement.csv', 'a') as f:\n",
    "                        writer = csv.writer(f)\n",
    "                        (size, color, direction, speed) = \\\n",
    "                            csv_line.split(',')\n",
    "                        writer.writerows([csv_line.split(',')])\n",
    "            cap.release()\n",
    "            cv2.destroyAllWindows()\n",
    "\n",
    "\n",
    "object_detection_function()\t\t\n",
    "           "
   ]
  },
  {
   "cell_type": "code",
   "execution_count": null,
   "metadata": {},
   "outputs": [],
   "source": []
  },
  {
   "cell_type": "code",
   "execution_count": null,
   "metadata": {},
   "outputs": [],
   "source": []
  },
  {
   "cell_type": "code",
   "execution_count": null,
   "metadata": {},
   "outputs": [],
   "source": []
  },
  {
   "cell_type": "code",
   "execution_count": null,
   "metadata": {},
   "outputs": [],
   "source": []
  },
  {
   "cell_type": "code",
   "execution_count": null,
   "metadata": {},
   "outputs": [],
   "source": []
  },
  {
   "cell_type": "code",
   "execution_count": null,
   "metadata": {},
   "outputs": [],
   "source": []
  },
  {
   "cell_type": "code",
   "execution_count": null,
   "metadata": {},
   "outputs": [],
   "source": []
  },
  {
   "cell_type": "code",
   "execution_count": null,
   "metadata": {},
   "outputs": [],
   "source": []
  },
  {
   "cell_type": "code",
   "execution_count": null,
   "metadata": {},
   "outputs": [],
   "source": []
  }
 ],
 "metadata": {
  "kernelspec": {
   "display_name": "Python 3",
   "language": "python",
   "name": "python3"
  },
  "language_info": {
   "codemirror_mode": {
    "name": "ipython",
    "version": 3
   },
   "file_extension": ".py",
   "mimetype": "text/x-python",
   "name": "python",
   "nbconvert_exporter": "python",
   "pygments_lexer": "ipython3",
   "version": "3.6.8"
  }
 },
 "nbformat": 4,
 "nbformat_minor": 2
}
